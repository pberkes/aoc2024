{
 "cells": [
  {
   "cell_type": "code",
   "execution_count": 66,
   "id": "eaca00b2",
   "metadata": {},
   "outputs": [],
   "source": [
    "txt = \"\"\"\n",
    "47|53\n",
    "97|13\n",
    "97|61\n",
    "97|47\n",
    "75|29\n",
    "61|13\n",
    "75|53\n",
    "29|13\n",
    "97|29\n",
    "53|29\n",
    "61|53\n",
    "97|53\n",
    "61|29\n",
    "47|13\n",
    "75|47\n",
    "97|75\n",
    "47|61\n",
    "75|61\n",
    "47|29\n",
    "75|13\n",
    "53|13\n",
    "\n",
    "75,47,61,53,29\n",
    "97,61,53,29,13\n",
    "75,29,13\n",
    "75,97,47,61,53\n",
    "61,13,29\n",
    "97,13,75,29,47\n",
    "\"\"\".strip()"
   ]
  },
  {
   "cell_type": "code",
   "execution_count": 67,
   "id": "49ed8f46",
   "metadata": {},
   "outputs": [],
   "source": [
    "with open(\"input.txt\", 'r') as f:\n",
    "    txt = f.read().strip()"
   ]
  },
  {
   "cell_type": "markdown",
   "id": "72003d8f",
   "metadata": {},
   "source": [
    "# Part 1"
   ]
  },
  {
   "cell_type": "code",
   "execution_count": 68,
   "id": "b7800d29",
   "metadata": {},
   "outputs": [],
   "source": [
    "order_txt, updates_txt = txt.split('\\n\\n')"
   ]
  },
  {
   "cell_type": "code",
   "execution_count": 69,
   "id": "188a4b95",
   "metadata": {},
   "outputs": [],
   "source": [
    "order = [l.split('|') for l in order_txt.splitlines()]\n",
    "order = [(int(r[0]), int(r[1])) for r in order]"
   ]
  },
  {
   "cell_type": "code",
   "execution_count": 70,
   "id": "ca90bc81",
   "metadata": {},
   "outputs": [],
   "source": [
    "updates = [l.split(',') for l in updates_txt.splitlines()]\n",
    "updates = [[int(i) for i in r] for r in updates]"
   ]
  },
  {
   "cell_type": "code",
   "execution_count": 71,
   "id": "5ebea088",
   "metadata": {},
   "outputs": [],
   "source": [
    "from collections import defaultdict\n",
    "\n",
    "after = defaultdict(set)\n",
    "before = defaultdict(set)\n",
    "for o in order:\n",
    "    after[o[0]].update({o[1]})\n",
    "    before[o[1]].update({o[0]})"
   ]
  },
  {
   "cell_type": "code",
   "execution_count": 76,
   "id": "9c652254",
   "metadata": {},
   "outputs": [],
   "source": [
    "def check_update(update):\n",
    "    is_valid = True\n",
    "    for i in range(len(update)):\n",
    "        el = update[i]\n",
    "        b = set(update[:i])\n",
    "        a = set(update[i+1:])\n",
    "\n",
    "        if (len(a.intersection(before[el])) > 0) or (len(b.intersection(after[el])) or 0):\n",
    "            is_valid = False\n",
    "            break\n",
    "\n",
    "    return is_valid"
   ]
  },
  {
   "cell_type": "code",
   "execution_count": 77,
   "id": "04af6a67",
   "metadata": {},
   "outputs": [
    {
     "data": {
      "text/plain": [
       "7198"
      ]
     },
     "execution_count": 77,
     "metadata": {},
     "output_type": "execute_result"
    }
   ],
   "source": [
    "numbers = []\n",
    "for update in updates:\n",
    "    if check_update(update):\n",
    "        numbers.append(update[len(update) // 2])\n",
    "sum(numbers)"
   ]
  },
  {
   "cell_type": "raw",
   "id": "79cec635",
   "metadata": {},
   "source": [
    "update = [75, 97, 47, 61, 53]"
   ]
  },
  {
   "cell_type": "markdown",
   "id": "c8d9240d",
   "metadata": {},
   "source": [
    "# Part 2"
   ]
  },
  {
   "cell_type": "code",
   "execution_count": 78,
   "id": "34ab1e23",
   "metadata": {},
   "outputs": [
    {
     "data": {
      "text/plain": [
       "[86, 12, 75, 82, 85, 27, 89, 78, 63, 28, 97, 13, 94, 11, 99, 72, 41]"
      ]
     },
     "execution_count": 78,
     "metadata": {},
     "output_type": "execute_result"
    }
   ],
   "source": [
    "from functools import cmp_to_key\n",
    "\n",
    "def order_cmp(x, y):\n",
    "    if y in before[x]:\n",
    "        return 1\n",
    "    if y in after[x]:\n",
    "        return -1\n",
    "    return 0\n",
    "\n",
    "sorted(update, key=cmp_to_key(order_cmp))"
   ]
  },
  {
   "cell_type": "code",
   "execution_count": 79,
   "id": "7b910681",
   "metadata": {},
   "outputs": [
    {
     "data": {
      "text/plain": [
       "4230"
      ]
     },
     "execution_count": 79,
     "metadata": {},
     "output_type": "execute_result"
    }
   ],
   "source": [
    "numbers = []\n",
    "for update in updates:\n",
    "    if not check_update(update):\n",
    "        fixed = sorted(update, key=cmp_to_key(order_cmp))\n",
    "        numbers.append(fixed[len(fixed) // 2])\n",
    "sum(numbers)"
   ]
  },
  {
   "cell_type": "code",
   "execution_count": null,
   "id": "cdece8d1",
   "metadata": {},
   "outputs": [],
   "source": []
  },
  {
   "cell_type": "code",
   "execution_count": null,
   "id": "5fb46bec",
   "metadata": {},
   "outputs": [],
   "source": []
  }
 ],
 "metadata": {
  "kernelspec": {
   "display_name": "Python 3 (ipykernel)",
   "language": "python",
   "name": "python3"
  },
  "language_info": {
   "codemirror_mode": {
    "name": "ipython",
    "version": 3
   },
   "file_extension": ".py",
   "mimetype": "text/x-python",
   "name": "python",
   "nbconvert_exporter": "python",
   "pygments_lexer": "ipython3",
   "version": "3.11.3"
  }
 },
 "nbformat": 4,
 "nbformat_minor": 5
}
