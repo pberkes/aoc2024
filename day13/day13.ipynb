{
 "cells": [
  {
   "cell_type": "code",
   "execution_count": 1,
   "id": "6a0bf45e",
   "metadata": {
    "ExecuteTime": {
     "end_time": "2022-12-02T05:18:22.341580Z",
     "start_time": "2022-12-02T05:18:21.400288Z"
    }
   },
   "outputs": [],
   "source": [
    "%matplotlib inline\n",
    "\n",
    "import itertools\n",
    "import re\n",
    "\n",
    "import matplotlib.pyplot as plt\n",
    "import networkx as nx\n",
    "import numpy as np\n",
    "\n",
    "\n",
    "def map_array(map_txt):\n",
    "    rows = map_txt.splitlines()\n",
    "    map_ = np.array([list(r) for r in rows])\n",
    "    return map_\n",
    "\n",
    "\n",
    "def print_map(map_):\n",
    "    for row in map_:\n",
    "        print(''.join(row))\n",
    "\n",
    "        \n",
    "def out_of_bounds(pos, n, m):\n",
    "    return (pos[0] < 0) | (pos[0] >= n) | (pos[1] < 0) | (pos[1] >= m)\n",
    "\n",
    "\n",
    "directions = [(0, 1), (1, 0), (0, -1), (-1, 0)]"
   ]
  },
  {
   "cell_type": "code",
   "execution_count": 2,
   "id": "5b1cb3ac",
   "metadata": {},
   "outputs": [],
   "source": [
    "txt = \"\"\"\n",
    "Button A: X+94, Y+34\n",
    "Button B: X+22, Y+67\n",
    "Prize: X=8400, Y=5400\n",
    "\n",
    "Button A: X+26, Y+66\n",
    "Button B: X+67, Y+21\n",
    "Prize: X=12748, Y=12176\n",
    "\n",
    "Button A: X+17, Y+86\n",
    "Button B: X+84, Y+37\n",
    "Prize: X=7870, Y=6450\n",
    "\n",
    "Button A: X+69, Y+23\n",
    "Button B: X+27, Y+71\n",
    "Prize: X=18641, Y=10279\n",
    "\"\"\".strip()"
   ]
  },
  {
   "cell_type": "code",
   "execution_count": 3,
   "id": "e63b6ffe",
   "metadata": {
    "ExecuteTime": {
     "end_time": "2022-12-02T05:18:39.902760Z",
     "start_time": "2022-12-02T05:18:39.354573Z"
    }
   },
   "outputs": [],
   "source": [
    "with open('input.txt', 'r') as f:\n",
    "    txt = f.read().strip()"
   ]
  },
  {
   "cell_type": "markdown",
   "id": "533d4b56",
   "metadata": {},
   "source": [
    "# Part 1"
   ]
  },
  {
   "cell_type": "code",
   "execution_count": 4,
   "id": "65e605d2",
   "metadata": {},
   "outputs": [],
   "source": [
    "cost_a = 3\n",
    "cost_b = 1"
   ]
  },
  {
   "cell_type": "code",
   "execution_count": 5,
   "id": "2b25dfa5",
   "metadata": {},
   "outputs": [],
   "source": [
    "parts = txt.split('\\n\\n')"
   ]
  },
  {
   "cell_type": "code",
   "execution_count": 6,
   "id": "c2ea8660",
   "metadata": {},
   "outputs": [],
   "source": [
    "def parse_part(part):\n",
    "    ba, bb, pr = part.split('\\n')\n",
    "    ba = ba[10:]\n",
    "    bb = bb[10:]\n",
    "    pr = pr[7:]\n",
    "\n",
    "    a_xy = [int(x[2:]) for x in ba.split(',')]\n",
    "    b_xy = [int(x[2:]) for x in bb.split(',')]\n",
    "    prize_xy = tuple(int(x[2:]) for x in pr.split(', '))\n",
    "    return a_xy, b_xy, prize_xy"
   ]
  },
  {
   "cell_type": "code",
   "execution_count": 7,
   "id": "4d82b592",
   "metadata": {},
   "outputs": [],
   "source": [
    "costs = []\n",
    "for part in parts:\n",
    "    a_xy, b_xy, prize_xy = parse_part(part)\n",
    "    solutions = []\n",
    "    for a in range(101):\n",
    "        for b in range(101):\n",
    "            x = a_xy[0] * a + b_xy[0] * b\n",
    "            y = a_xy[1] * a + b_xy[1] * b\n",
    "            if (x, y) == prize_xy:\n",
    "                solutions.append((a, b))\n",
    "\n",
    "    if len(solutions) == 0:\n",
    "        continue\n",
    "    cost = np.min([(cost_a * a + cost_b * b) for a, b in solutions])\n",
    "    costs.append(cost)"
   ]
  },
  {
   "cell_type": "code",
   "execution_count": 8,
   "id": "fe1c263e",
   "metadata": {
    "scrolled": true
   },
   "outputs": [
    {
     "data": {
      "text/plain": [
       "27157"
      ]
     },
     "execution_count": 8,
     "metadata": {},
     "output_type": "execute_result"
    }
   ],
   "source": [
    "sum(costs)"
   ]
  },
  {
   "cell_type": "markdown",
   "id": "984acafe",
   "metadata": {},
   "source": [
    "# Part 2"
   ]
  },
  {
   "cell_type": "code",
   "execution_count": 9,
   "id": "8c62c8aa",
   "metadata": {},
   "outputs": [],
   "source": [
    "txt = \"\"\"\n",
    "Button A: X+94, Y+34\n",
    "Button B: X+22, Y+67\n",
    "Prize: X=8400, Y=5400\n",
    "\n",
    "Button A: X+26, Y+66\n",
    "Button B: X+67, Y+21\n",
    "Prize: X=12748, Y=12176\n",
    "\n",
    "Button A: X+17, Y+86\n",
    "Button B: X+84, Y+37\n",
    "Prize: X=7870, Y=6450\n",
    "\n",
    "Button A: X+69, Y+23\n",
    "Button B: X+27, Y+71\n",
    "Prize: X=18641, Y=10279\n",
    "\"\"\".strip()"
   ]
  },
  {
   "cell_type": "code",
   "execution_count": 10,
   "id": "088d42fb",
   "metadata": {},
   "outputs": [],
   "source": [
    "with open('input.txt', 'r') as f:\n",
    "    txt = f.read().strip()"
   ]
  },
  {
   "cell_type": "code",
   "execution_count": 11,
   "id": "f9fd9007",
   "metadata": {},
   "outputs": [],
   "source": [
    "parts = txt.split('\\n\\n')"
   ]
  },
  {
   "cell_type": "code",
   "execution_count": 12,
   "id": "d6d7e2f5",
   "metadata": {},
   "outputs": [],
   "source": [
    "def parse_part(part):\n",
    "    ba, bb, pr = part.split('\\n')\n",
    "    ba = ba[10:]\n",
    "    bb = bb[10:]\n",
    "    pr = pr[7:]\n",
    "\n",
    "    a_xy = [int(x[2:]) for x in ba.split(',')]\n",
    "    b_xy = [int(x[2:]) for x in bb.split(',')]\n",
    "    prize_xy = tuple(int(x[2:]) + 10000000000000 for x in pr.split(', '))\n",
    "    return a_xy, b_xy, prize_xy"
   ]
  },
  {
   "cell_type": "code",
   "execution_count": 13,
   "id": "e219ad13",
   "metadata": {},
   "outputs": [
    {
     "data": {
      "text/plain": [
       "104015411578548.0"
      ]
     },
     "execution_count": 13,
     "metadata": {},
     "output_type": "execute_result"
    }
   ],
   "source": [
    "costs = []\n",
    "for part in parts:\n",
    "    a_xy, b_xy, prize_xy = parse_part(part)\n",
    "    solutions = []\n",
    "    \n",
    "    a = (prize_xy[0] - prize_xy[1] * b_xy[0] / b_xy[1]) / (a_xy[0] - a_xy[1] * b_xy[0] / b_xy[1])\n",
    "    b = (prize_xy[0] - a_xy[0] * a) / b_xy[0]\n",
    "    \n",
    "    if a > 0 and b > 0 and (abs(a - round(a)) < 0.001) and (abs(b - round(b)) < 0.001):\n",
    "        solutions.append((a, b))\n",
    "        \n",
    "    if len(solutions) == 0:\n",
    "        continue\n",
    "    cost = np.min([(cost_a * a + cost_b * b) for a, b in solutions])\n",
    "    costs.append(cost)\n",
    "    \n",
    "sum(costs)"
   ]
  },
  {
   "cell_type": "code",
   "execution_count": null,
   "id": "90702b98",
   "metadata": {},
   "outputs": [],
   "source": []
  },
  {
   "cell_type": "code",
   "execution_count": null,
   "id": "9360092d",
   "metadata": {},
   "outputs": [],
   "source": []
  }
 ],
 "metadata": {
  "hide_input": false,
  "kernelspec": {
   "display_name": "Python 3 (ipykernel)",
   "language": "python",
   "name": "python3"
  },
  "language_info": {
   "codemirror_mode": {
    "name": "ipython",
    "version": 3
   },
   "file_extension": ".py",
   "mimetype": "text/x-python",
   "name": "python",
   "nbconvert_exporter": "python",
   "pygments_lexer": "ipython3",
   "version": "3.11.3"
  },
  "toc": {
   "nav_menu": {
    "height": "12px",
    "width": "252px"
   },
   "navigate_menu": true,
   "number_sections": true,
   "sideBar": true,
   "threshold": 4,
   "toc_cell": false,
   "toc_section_display": "block",
   "toc_window_display": false
  }
 },
 "nbformat": 4,
 "nbformat_minor": 5
}
