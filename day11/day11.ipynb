{
 "cells": [
  {
   "cell_type": "code",
   "execution_count": 1,
   "id": "6a0bf45e",
   "metadata": {
    "ExecuteTime": {
     "end_time": "2022-12-02T05:18:22.341580Z",
     "start_time": "2022-12-02T05:18:21.400288Z"
    }
   },
   "outputs": [],
   "source": [
    "%matplotlib inline\n",
    "\n",
    "import re\n",
    "\n",
    "import matplotlib.pyplot as plt\n",
    "import networkx as nx\n",
    "import numpy as np\n",
    "\n",
    "\n",
    "def map_array(map_txt):\n",
    "    rows = map_txt.splitlines()\n",
    "    map_ = np.array([list(r) for r in rows])\n",
    "    return map_\n",
    "\n",
    "\n",
    "def print_map(map_):\n",
    "    for row in map_:\n",
    "        print(''.join(row))\n",
    "\n",
    "        \n",
    "def out_of_bounds(pos, n, m):\n",
    "    return (pos[0] < 0) | (pos[0] >= n) | (pos[1] < 0) | (pos[1] >= m)\n",
    "\n",
    "\n",
    "directions = [(0, 1), (1, 0), (0, -1), (-1, 0)]"
   ]
  },
  {
   "cell_type": "code",
   "execution_count": 190,
   "id": "5b1cb3ac",
   "metadata": {},
   "outputs": [],
   "source": [
    "txt = \"\"\"\n",
    "125 17\n",
    "\"\"\".strip()"
   ]
  },
  {
   "cell_type": "code",
   "execution_count": 218,
   "id": "e63b6ffe",
   "metadata": {
    "ExecuteTime": {
     "end_time": "2022-12-02T05:18:39.902760Z",
     "start_time": "2022-12-02T05:18:39.354573Z"
    }
   },
   "outputs": [],
   "source": [
    "with open('input.txt', 'r') as f:\n",
    "    txt = f.read().strip()"
   ]
  },
  {
   "cell_type": "markdown",
   "id": "533d4b56",
   "metadata": {},
   "source": [
    "# Part 1"
   ]
  },
  {
   "cell_type": "code",
   "execution_count": 4,
   "id": "856ba57e",
   "metadata": {},
   "outputs": [],
   "source": [
    "class Node:\n",
    "    def __init__(self, value):\n",
    "        self.value = value\n",
    "        self.next = None\n",
    "        \n",
    "    def insert(self, node):\n",
    "        tmp = self.next\n",
    "        self.next = node\n",
    "        node.next = tmp\n",
    "        \n",
    "        \n",
    "def ll_to_list(n):\n",
    "    l = []\n",
    "    while True:\n",
    "        l.append(n.value)\n",
    "        if n.next is None:\n",
    "            break\n",
    "        n = n.next\n",
    "    return l"
   ]
  },
  {
   "cell_type": "code",
   "execution_count": 5,
   "id": "c2ea8660",
   "metadata": {},
   "outputs": [],
   "source": [
    "def blink(first):\n",
    "    n = first\n",
    "    while True:\n",
    "        val = n.value\n",
    "        valstr = str(val)\n",
    "        len_valstr = len(valstr)\n",
    "        if val == 0:\n",
    "            n.value = 1\n",
    "        elif len_valstr % 2 == 0:\n",
    "            half = len_valstr // 2\n",
    "            n.value = int(valstr[:half])\n",
    "            n.insert(Node(int(valstr[half:])))\n",
    "            n = n.next\n",
    "        else:\n",
    "            n.value = val * 2024\n",
    "        if n.next is None:\n",
    "            break\n",
    "        n = n.next\n"
   ]
  },
  {
   "cell_type": "code",
   "execution_count": 6,
   "id": "2b25dfa5",
   "metadata": {},
   "outputs": [
    {
     "data": {
      "text/plain": [
       "[5, 62914, 65, 972, 0, 805922, 6521, 1639064]"
      ]
     },
     "execution_count": 6,
     "metadata": {},
     "output_type": "execute_result"
    }
   ],
   "source": [
    "stones = [int(n) for n in txt.split()]\n",
    "\n",
    "first = Node(stones[0])\n",
    "curr = first\n",
    "for s in stones[1:]:\n",
    "    node = Node(s)\n",
    "    curr.insert(node)\n",
    "    curr = node\n",
    "\n",
    "\n",
    "ll_to_list(first)"
   ]
  },
  {
   "cell_type": "code",
   "execution_count": 7,
   "id": "8dd09418",
   "metadata": {},
   "outputs": [
    {
     "data": {
      "text/plain": [
       "199753"
      ]
     },
     "execution_count": 7,
     "metadata": {},
     "output_type": "execute_result"
    }
   ],
   "source": [
    "for i in range(25):\n",
    "    blink(first)\n",
    "len(ll_to_list(first))"
   ]
  },
  {
   "cell_type": "markdown",
   "id": "984acafe",
   "metadata": {},
   "source": [
    "# Part 2"
   ]
  },
  {
   "cell_type": "code",
   "execution_count": 219,
   "id": "2933e57f",
   "metadata": {},
   "outputs": [],
   "source": [
    "with open('input.txt', 'r') as f:\n",
    "    txt = f.read().strip()"
   ]
  },
  {
   "cell_type": "code",
   "execution_count": 220,
   "id": "77fb4d33",
   "metadata": {},
   "outputs": [],
   "source": [
    "def blink_value(val):\n",
    "    valstr = str(val)\n",
    "    len_valstr = len(valstr)\n",
    "    if val == 0:\n",
    "        return [1]\n",
    "    elif len_valstr % 2 == 0:\n",
    "        half = len_valstr // 2\n",
    "        return [int(valstr[:half]), int(valstr[half:])]\n",
    "    else:\n",
    "        return [val * 2024]\n"
   ]
  },
  {
   "cell_type": "code",
   "execution_count": 224,
   "id": "770aa623",
   "metadata": {},
   "outputs": [],
   "source": [
    "c = {}\n",
    "\n",
    "def iterate(val, depth):\n",
    "    if depth == 75:\n",
    "        return 1\n",
    "    tot = 0\n",
    "    lst = blink_value(val)\n",
    "    for l in lst:\n",
    "        if (l, depth+1) in c:\n",
    "            n = c[(l, depth+1)]\n",
    "        else:\n",
    "            n = iterate(l, depth+1)\n",
    "        tot += n\n",
    "    c[(val, depth)] = tot\n",
    "    return tot"
   ]
  },
  {
   "cell_type": "code",
   "execution_count": 225,
   "id": "2cfa7855",
   "metadata": {},
   "outputs": [],
   "source": [
    "stones = [int(n) for n in txt.split()]\n",
    "\n",
    "tot = 0\n",
    "for stone in stones:\n",
    "    tot += iterate(stone, 0)"
   ]
  },
  {
   "cell_type": "code",
   "execution_count": 226,
   "id": "5b83f5d0",
   "metadata": {},
   "outputs": [
    {
     "data": {
      "text/plain": [
       "239413123020116"
      ]
     },
     "execution_count": 226,
     "metadata": {},
     "output_type": "execute_result"
    }
   ],
   "source": [
    "tot"
   ]
  },
  {
   "cell_type": "code",
   "execution_count": null,
   "id": "5aebe86e",
   "metadata": {},
   "outputs": [],
   "source": []
  }
 ],
 "metadata": {
  "hide_input": false,
  "kernelspec": {
   "display_name": "Python 3 (ipykernel)",
   "language": "python",
   "name": "python3"
  },
  "language_info": {
   "codemirror_mode": {
    "name": "ipython",
    "version": 3
   },
   "file_extension": ".py",
   "mimetype": "text/x-python",
   "name": "python",
   "nbconvert_exporter": "python",
   "pygments_lexer": "ipython3",
   "version": "3.11.3"
  },
  "toc": {
   "nav_menu": {
    "height": "12px",
    "width": "252px"
   },
   "navigate_menu": true,
   "number_sections": true,
   "sideBar": true,
   "threshold": 4,
   "toc_cell": false,
   "toc_section_display": "block",
   "toc_window_display": false
  }
 },
 "nbformat": 4,
 "nbformat_minor": 5
}
