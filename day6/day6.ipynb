{
 "cells": [
  {
   "cell_type": "code",
   "execution_count": 6,
   "id": "ccfef95e",
   "metadata": {},
   "outputs": [],
   "source": [
    "import numpy as np"
   ]
  },
  {
   "cell_type": "code",
   "execution_count": 47,
   "id": "19c07be6",
   "metadata": {},
   "outputs": [],
   "source": [
    "txt = \"\"\"\n",
    "....#.....\n",
    ".........#\n",
    "..........\n",
    "..#.......\n",
    ".......#..\n",
    "..........\n",
    ".#..^.....\n",
    "........#.\n",
    "#.........\n",
    "......#...\n",
    "\"\"\".strip()"
   ]
  },
  {
   "cell_type": "code",
   "execution_count": 40,
   "id": "f96244bf",
   "metadata": {},
   "outputs": [],
   "source": [
    "directions = {\n",
    "    (-1, 0): (0, 1),\n",
    "    (0, 1): (1, 0),\n",
    "    (1, 0): (0, -1),\n",
    "    (0, -1): (-1, 0),\n",
    "}"
   ]
  },
  {
   "cell_type": "markdown",
   "id": "6dc2085c",
   "metadata": {},
   "source": [
    "# Part 1"
   ]
  },
  {
   "cell_type": "code",
   "execution_count": 41,
   "id": "38fa4070",
   "metadata": {},
   "outputs": [],
   "source": [
    "with open(\"input.txt\", 'r') as f:\n",
    "    txt = f.read().strip()"
   ]
  },
  {
   "cell_type": "code",
   "execution_count": 48,
   "id": "ac0eec5a",
   "metadata": {},
   "outputs": [],
   "source": [
    "def parse_map(txt):\n",
    "    lines = txt.splitlines()\n",
    "    map_ = np.zeros((len(lines), len(lines[0])), dtype=int)\n",
    "\n",
    "    pos = (0, 0)\n",
    "    dir_ = (-1, 0)\n",
    "    for i, line in enumerate(txt.splitlines()):\n",
    "        for j, el in enumerate(line):\n",
    "            if el == '#':\n",
    "                map_[i,j] = 1\n",
    "            elif el == '^':\n",
    "                pos = (i, j)\n",
    "    return map_, pos, dir_"
   ]
  },
  {
   "cell_type": "code",
   "execution_count": 49,
   "id": "755fe786",
   "metadata": {},
   "outputs": [],
   "source": [
    "map_, pos, dir_ = parse_map(txt)\n",
    "\n",
    "while True:\n",
    "    map_[pos[0], pos[1]] = -1\n",
    "    next_pos = (pos[0] + dir_[0], pos[1] + dir_[1])\n",
    "    if next_pos[0] >= map_.shape[0] or next_pos[1] >= map_.shape[1] or next_pos[0] < 0 or next_pos[1] < 0:\n",
    "        break\n",
    "    elif map_[next_pos[0], next_pos[1]] == 1:\n",
    "        # turn\n",
    "        dir_ = directions[dir_]\n",
    "    else:\n",
    "        pos = next_pos\n",
    "\n"
   ]
  },
  {
   "cell_type": "code",
   "execution_count": 44,
   "id": "4bc6d8a7",
   "metadata": {},
   "outputs": [
    {
     "data": {
      "text/plain": [
       "5067"
      ]
     },
     "execution_count": 44,
     "metadata": {},
     "output_type": "execute_result"
    }
   ],
   "source": [
    "(map_ == -1).sum()"
   ]
  },
  {
   "cell_type": "markdown",
   "id": "98115b38",
   "metadata": {},
   "source": [
    "# Part 2"
   ]
  },
  {
   "cell_type": "code",
   "execution_count": 107,
   "id": "ca7e80f6",
   "metadata": {},
   "outputs": [],
   "source": [
    "with open(\"input.txt\", 'r') as f:\n",
    "    txt = f.read().strip()"
   ]
  },
  {
   "cell_type": "code",
   "execution_count": 110,
   "id": "9d6174ee",
   "metadata": {},
   "outputs": [],
   "source": [
    "map_, pos, dir_ = parse_map(txt)\n",
    "n = 0\n",
    "for i in range(map_.shape[0]):\n",
    "    for j in range(map_.shape[1]):\n",
    "        map_, pos, dir_ = parse_map(txt)\n",
    "        if (i, j) == pos or map_[i, j] > 0:\n",
    "            continue\n",
    "        map_[i, j] = 2\n",
    "\n",
    "        visited = set()\n",
    "        while True:\n",
    "            visited.update([(pos, dir_)])\n",
    "            map_[pos[0], pos[1]] = -1\n",
    "            next_pos = (pos[0] + dir_[0], pos[1] + dir_[1])\n",
    "\n",
    "            if next_pos[0] >= map_.shape[0] or next_pos[1] >= map_.shape[1] or next_pos[0] < 0 or next_pos[1] < 0:\n",
    "                break\n",
    "            elif map_[next_pos[0], next_pos[1]] >= 1:\n",
    "                # turn\n",
    "                next_dir_ = directions[dir_]\n",
    "                next_pos = pos\n",
    "            else:\n",
    "                next_dir_ = dir_\n",
    "\n",
    "            if (next_pos, next_dir_) in visited:\n",
    "                n += 1\n",
    "                break\n",
    "\n",
    "            pos = next_pos\n",
    "            dir_ = next_dir_\n"
   ]
  },
  {
   "cell_type": "code",
   "execution_count": 111,
   "id": "3814b66f",
   "metadata": {},
   "outputs": [
    {
     "data": {
      "text/plain": [
       "1793"
      ]
     },
     "execution_count": 111,
     "metadata": {},
     "output_type": "execute_result"
    }
   ],
   "source": [
    "n"
   ]
  },
  {
   "cell_type": "code",
   "execution_count": null,
   "id": "e2418924",
   "metadata": {},
   "outputs": [],
   "source": []
  },
  {
   "cell_type": "code",
   "execution_count": null,
   "id": "2fac10a6",
   "metadata": {},
   "outputs": [],
   "source": []
  }
 ],
 "metadata": {
  "kernelspec": {
   "display_name": "Python 3 (ipykernel)",
   "language": "python",
   "name": "python3"
  },
  "language_info": {
   "codemirror_mode": {
    "name": "ipython",
    "version": 3
   },
   "file_extension": ".py",
   "mimetype": "text/x-python",
   "name": "python",
   "nbconvert_exporter": "python",
   "pygments_lexer": "ipython3",
   "version": "3.11.3"
  }
 },
 "nbformat": 4,
 "nbformat_minor": 5
}
