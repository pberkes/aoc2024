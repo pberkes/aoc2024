{
 "cells": [
  {
   "cell_type": "code",
   "execution_count": 50,
   "id": "b0675159",
   "metadata": {},
   "outputs": [],
   "source": [
    "import itertools"
   ]
  },
  {
   "cell_type": "code",
   "execution_count": 47,
   "id": "1b447fd6",
   "metadata": {},
   "outputs": [],
   "source": [
    "txt = \"\"\"\n",
    "190: 10 19\n",
    "3267: 81 40 27\n",
    "83: 17 5\n",
    "156: 15 6\n",
    "7290: 6 8 6 15\n",
    "161011: 16 10 13\n",
    "192: 17 8 14\n",
    "21037: 9 7 18 13\n",
    "292: 11 6 16 20\n",
    "\"\"\".strip()"
   ]
  },
  {
   "cell_type": "code",
   "execution_count": 55,
   "id": "f16b3ef7",
   "metadata": {},
   "outputs": [],
   "source": [
    "with open(\"input.txt\", 'r') as f:\n",
    "    txt = f.read().strip()"
   ]
  },
  {
   "cell_type": "code",
   "execution_count": 56,
   "id": "9df0847e",
   "metadata": {},
   "outputs": [],
   "source": [
    "eqs = []\n",
    "for l in txt.splitlines():\n",
    "    result, rest = l.split(':')\n",
    "    numbers = rest.split()\n",
    "    eq = (int(result), [int(n) for n in numbers])\n",
    "    eqs.append(eq)"
   ]
  },
  {
   "cell_type": "markdown",
   "id": "ce2d8f04",
   "metadata": {},
   "source": [
    "# Part 1"
   ]
  },
  {
   "cell_type": "code",
   "execution_count": 36,
   "id": "93a0af8c",
   "metadata": {},
   "outputs": [],
   "source": [
    "valid = []\n",
    "for res, num in eqs:\n",
    "    for ops in itertools.product(*([['*', '+']] * (len(num) - 1))):\n",
    "        tot = num[0]\n",
    "        for idx in range(1, len(num)):\n",
    "            if ops[idx - 1] == '+':\n",
    "                tot += num[idx]\n",
    "            else:\n",
    "                tot *= num[idx]\n",
    "\n",
    "        if tot == res:\n",
    "            valid.append(tot)    \n",
    "            break"
   ]
  },
  {
   "cell_type": "code",
   "execution_count": 37,
   "id": "0690417f",
   "metadata": {},
   "outputs": [
    {
     "data": {
      "text/plain": [
       "5512534574980"
      ]
     },
     "execution_count": 37,
     "metadata": {},
     "output_type": "execute_result"
    }
   ],
   "source": [
    "sum(valid)"
   ]
  },
  {
   "cell_type": "markdown",
   "id": "311a1270",
   "metadata": {},
   "source": [
    "# Part 2"
   ]
  },
  {
   "cell_type": "code",
   "execution_count": 57,
   "id": "b99323dd",
   "metadata": {},
   "outputs": [],
   "source": [
    "valid = []\n",
    "for res, num in eqs:\n",
    "    for ops in itertools.product(*([['*', '+', '|']] * (len(num) - 1))):\n",
    "        tot = num[0]\n",
    "        for idx in range(1, len(num)):\n",
    "            if ops[idx - 1] == '+':\n",
    "                tot += num[idx]\n",
    "            elif ops[idx -1] == '|':\n",
    "                tot = int(str(tot) + str(num[idx]))\n",
    "            else:\n",
    "                tot *= num[idx]\n",
    "\n",
    "        if tot == res:\n",
    "            valid.append(tot)    \n",
    "            break"
   ]
  },
  {
   "cell_type": "code",
   "execution_count": 58,
   "id": "c6c39f24",
   "metadata": {},
   "outputs": [
    {
     "data": {
      "text/plain": [
       "328790210468594"
      ]
     },
     "execution_count": 58,
     "metadata": {},
     "output_type": "execute_result"
    }
   ],
   "source": [
    "sum(valid)"
   ]
  },
  {
   "cell_type": "code",
   "execution_count": null,
   "id": "7f4f9cff",
   "metadata": {},
   "outputs": [],
   "source": []
  }
 ],
 "metadata": {
  "kernelspec": {
   "display_name": "Python 3 (ipykernel)",
   "language": "python",
   "name": "python3"
  },
  "language_info": {
   "codemirror_mode": {
    "name": "ipython",
    "version": 3
   },
   "file_extension": ".py",
   "mimetype": "text/x-python",
   "name": "python",
   "nbconvert_exporter": "python",
   "pygments_lexer": "ipython3",
   "version": "3.11.3"
  }
 },
 "nbformat": 4,
 "nbformat_minor": 5
}
