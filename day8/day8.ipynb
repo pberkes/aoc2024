{
 "cells": [
  {
   "cell_type": "code",
   "execution_count": 12,
   "id": "6938126c",
   "metadata": {},
   "outputs": [],
   "source": [
    "import numpy as np"
   ]
  },
  {
   "cell_type": "markdown",
   "id": "9e93a1da",
   "metadata": {},
   "source": [
    "# Part 1"
   ]
  },
  {
   "cell_type": "code",
   "execution_count": 86,
   "id": "9e7c9003",
   "metadata": {},
   "outputs": [],
   "source": [
    "def get_freqs(txt):\n",
    "    antennas = set(txt.replace('.', '').replace('\\n', ''))\n",
    "    return antennas\n",
    "\n",
    "def antenna_coords(map_, freq):\n",
    "    return np.dstack(np.where(map_ == freq)).squeeze()\n",
    "\n",
    "def is_valid_coord(pos, map_):\n",
    "    n, m = map_.shape\n",
    "    invalid = (pos[0] < 0) | (pos[0] >= n) | (pos[1] < 0) | (pos[1] >= m)\n",
    "    return not invalid"
   ]
  },
  {
   "cell_type": "code",
   "execution_count": 75,
   "id": "ba6f973f",
   "metadata": {},
   "outputs": [],
   "source": [
    "txt = \"\"\"\n",
    "............\n",
    "........0...\n",
    ".....0......\n",
    ".......0....\n",
    "....0.......\n",
    "......A.....\n",
    "............\n",
    "............\n",
    "........A...\n",
    ".........A..\n",
    "............\n",
    "............\n",
    "\"\"\".strip()"
   ]
  },
  {
   "cell_type": "code",
   "execution_count": 93,
   "id": "b673aafd",
   "metadata": {},
   "outputs": [],
   "source": [
    "with open(\"input.txt\", \"r\") as f:\n",
    "    txt = f.read().strip()"
   ]
  },
  {
   "cell_type": "code",
   "execution_count": 100,
   "id": "399175c8",
   "metadata": {},
   "outputs": [],
   "source": [
    "anti = set()\n",
    "\n",
    "map_ = np.array([list(l) for l in txt.splitlines()])\n",
    "freqs = get_freqs(txt)\n",
    "for freq in freqs:\n",
    "    coords = antenna_coords(map_, freq)\n",
    "\n",
    "    for idx1 in range(coords.shape[0]):\n",
    "        for idx2 in range(idx1 + 1, coords.shape[0]):\n",
    "            if idx1 == idx2:\n",
    "                continue\n",
    "            pos1 = coords[idx1]\n",
    "            pos2 = coords[idx2]\n",
    "            delta = pos1 - pos2\n",
    "            apos1, apos2 = pos1 + delta, pos2 - delta\n",
    "\n",
    "            if is_valid_coord(apos1, map_):\n",
    "                anti.add(tuple(apos1))\n",
    "            if is_valid_coord(apos2, map_):\n",
    "                anti.add(tuple(apos2))\n"
   ]
  },
  {
   "cell_type": "code",
   "execution_count": 97,
   "id": "5b31b7fb",
   "metadata": {},
   "outputs": [
    {
     "data": {
      "text/plain": [
       "361"
      ]
     },
     "execution_count": 97,
     "metadata": {},
     "output_type": "execute_result"
    }
   ],
   "source": [
    "len(anti)"
   ]
  },
  {
   "cell_type": "markdown",
   "id": "256530a1",
   "metadata": {},
   "source": [
    "# Part 2"
   ]
  },
  {
   "cell_type": "code",
   "execution_count": 101,
   "id": "f17e164e",
   "metadata": {},
   "outputs": [],
   "source": [
    "txt = \"\"\"\n",
    "............\n",
    "........0...\n",
    ".....0......\n",
    ".......0....\n",
    "....0.......\n",
    "......A.....\n",
    "............\n",
    "............\n",
    "........A...\n",
    ".........A..\n",
    "............\n",
    "............\n",
    "\"\"\".strip()"
   ]
  },
  {
   "cell_type": "code",
   "execution_count": 114,
   "id": "547a4968",
   "metadata": {},
   "outputs": [],
   "source": [
    "with open(\"input.txt\", \"r\") as f:\n",
    "    txt = f.read().strip()"
   ]
  },
  {
   "cell_type": "code",
   "execution_count": null,
   "id": "1f42c497",
   "metadata": {},
   "outputs": [],
   "source": [
    "anti = set()\n",
    "\n",
    "map_ = np.array([list(l) for l in txt.splitlines()])\n",
    "freqs = get_freqs(txt)\n",
    "for freq in freqs:\n",
    "    coords = antenna_coords(map_, freq)\n",
    "\n",
    "    for idx1 in range(coords.shape[0]):\n",
    "        for idx2 in range(idx1 + 1, coords.shape[0]):\n",
    "            if idx1 == idx2:\n",
    "                continue\n",
    "            pos1 = coords[idx1]\n",
    "            pos2 = coords[idx2]\n",
    "            delta = pos1 - pos2\n",
    "            \n",
    "            for p in [pos1, pos2]:\n",
    "                for d in [delta, -delta]:\n",
    "                    pos = p\n",
    "                    while True:\n",
    "                        pos = pos + d\n",
    "                        if is_valid_coord(pos, map_):\n",
    "                            anti.add(tuple(pos))\n",
    "                        else:\n",
    "                            break\n"
   ]
  },
  {
   "cell_type": "code",
   "execution_count": 124,
   "id": "563d7927",
   "metadata": {},
   "outputs": [
    {
     "data": {
      "text/plain": [
       "1249"
      ]
     },
     "execution_count": 124,
     "metadata": {},
     "output_type": "execute_result"
    }
   ],
   "source": [
    "len(anti)"
   ]
  },
  {
   "cell_type": "code",
   "execution_count": null,
   "id": "666b544d",
   "metadata": {},
   "outputs": [],
   "source": []
  }
 ],
 "metadata": {
  "kernelspec": {
   "display_name": "Python 3 (ipykernel)",
   "language": "python",
   "name": "python3"
  },
  "language_info": {
   "codemirror_mode": {
    "name": "ipython",
    "version": 3
   },
   "file_extension": ".py",
   "mimetype": "text/x-python",
   "name": "python",
   "nbconvert_exporter": "python",
   "pygments_lexer": "ipython3",
   "version": "3.11.3"
  }
 },
 "nbformat": 4,
 "nbformat_minor": 5
}
