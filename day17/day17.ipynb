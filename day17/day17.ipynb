{
 "cells": [
  {
   "cell_type": "code",
   "execution_count": 1,
   "id": "6a0bf45e",
   "metadata": {
    "ExecuteTime": {
     "end_time": "2022-12-02T05:18:22.341580Z",
     "start_time": "2022-12-02T05:18:21.400288Z"
    }
   },
   "outputs": [],
   "source": [
    "%matplotlib inline\n",
    "\n",
    "import itertools\n",
    "import re\n",
    "\n",
    "import matplotlib.pyplot as plt\n",
    "import networkx as nx\n",
    "import numpy as np\n",
    "\n",
    "\n",
    "def map_array(map_txt):\n",
    "    rows = map_txt.splitlines()\n",
    "    map_ = np.array([list(r) for r in rows])\n",
    "    return map_\n",
    "\n",
    "\n",
    "def print_map(map_):\n",
    "    for row in map_:\n",
    "        print(''.join(row))\n",
    "\n",
    "        \n",
    "def out_of_bounds(pos, n, m):\n",
    "    return (pos[0] < 0) | (pos[0] >= n) | (pos[1] < 0) | (pos[1] >= m)\n",
    "\n",
    "\n",
    "directions = [(0, 1), (1, 0), (0, -1), (-1, 0)]"
   ]
  },
  {
   "cell_type": "code",
   "execution_count": 2,
   "id": "5b1cb3ac",
   "metadata": {},
   "outputs": [],
   "source": [
    "txt = \"\"\"\n",
    "Register A: 729\n",
    "Register B: 0\n",
    "Register C: 0\n",
    "\n",
    "Program: 0,1,5,4,3,0\n",
    "\"\"\".strip()"
   ]
  },
  {
   "cell_type": "code",
   "execution_count": 3,
   "id": "e63b6ffe",
   "metadata": {
    "ExecuteTime": {
     "end_time": "2022-12-02T05:18:39.902760Z",
     "start_time": "2022-12-02T05:18:39.354573Z"
    }
   },
   "outputs": [],
   "source": [
    "with open('input.txt', 'r') as f:\n",
    "    txt = f.read().strip()"
   ]
  },
  {
   "cell_type": "markdown",
   "id": "533d4b56",
   "metadata": {},
   "source": [
    "# Part 1"
   ]
  },
  {
   "cell_type": "code",
   "execution_count": 4,
   "id": "2b25dfa5",
   "metadata": {},
   "outputs": [],
   "source": [
    "operand_map = {\n",
    "    0: lambda: 0,\n",
    "    1: lambda: 1,\n",
    "    2: lambda: 2,\n",
    "    3: lambda: 3,\n",
    "    4: lambda: registers['A'],\n",
    "    5: lambda: registers['B'],\n",
    "    6: lambda: registers['C'],\n",
    "    7: lambda: 0/0,\n",
    "}\n",
    "\n",
    "\n",
    "def adv(operand, registers, pointer):\n",
    "    operand_value = operand_map[operand]()\n",
    "    #registers['A'] = int(registers['A'] / 2 ** operand_value)\n",
    "    registers['A'] = registers['A'] >> operand_value\n",
    "    return pointer + 2, []\n",
    "\n",
    "\n",
    "def bxl(operand, registers, pointer):\n",
    "    registers['B'] = registers['B'] ^ operand\n",
    "    return pointer + 2, []\n",
    "    \n",
    "\n",
    "def bst(operand, registers, pointer):\n",
    "    operand_value = operand_map[operand]()\n",
    "    # registers['B'] = operand_value % 8\n",
    "    registers['B'] = operand_value & 7\n",
    "    return pointer + 2, []\n",
    "    \n",
    "    \n",
    "def jnz(operand, registers, pointer):\n",
    "    if registers['A'] == 0:\n",
    "        return pointer + 2, []\n",
    "    else:\n",
    "        return operand, []\n",
    "\n",
    "\n",
    "def bxc(operand, registers, pointer):\n",
    "    registers['B'] = registers['B'] ^ registers['C']\n",
    "    return pointer + 2, []\n",
    "\n",
    "\n",
    "def out(operand, registers, pointer):\n",
    "    #operand_value = operand_map[operand]() % 8\n",
    "    operand_value = operand_map[operand]() & 7\n",
    "    return pointer + 2, [operand_value]\n",
    "\n",
    "\n",
    "def bdv(operand, registers, pointer):\n",
    "    operand_value = operand_map[operand]()\n",
    "    registers['B'] = registers['A'] >> operand_value\n",
    "    return pointer + 2, []\n",
    "\n",
    "\n",
    "def cdv(operand, registers, pointer):\n",
    "    operand_value = operand_map[operand]()\n",
    "    registers['C'] = registers['A'] >> operand_value\n",
    "    return pointer + 2, []\n",
    "\n",
    "    \n",
    "opcode_map = {\n",
    "    0: adv,\n",
    "    1: bxl,\n",
    "    2: bst,\n",
    "    3: jnz,\n",
    "    4: bxc,\n",
    "    5: out,\n",
    "    6: bdv,\n",
    "    7: cdv,\n",
    "}"
   ]
  },
  {
   "cell_type": "code",
   "execution_count": 6,
   "id": "1d4d70b6",
   "metadata": {},
   "outputs": [],
   "source": [
    "reg, prog = txt.split('\\n\\n')\n",
    "registers = {}\n",
    "for r, line in zip(['A', 'B', 'C'], reg.splitlines()):\n",
    "    registers[r] = int(line[11:])\n",
    "    \n",
    "program = [int(x) for x in prog[8:].split(',')]"
   ]
  },
  {
   "cell_type": "code",
   "execution_count": 7,
   "id": "712f7c76",
   "metadata": {},
   "outputs": [
    {
     "data": {
      "text/plain": [
       "({'A': 33024962, 'B': 0, 'C': 0},\n",
       " [2, 4, 1, 3, 7, 5, 1, 5, 0, 3, 4, 2, 5, 5, 3, 0])"
      ]
     },
     "execution_count": 7,
     "metadata": {},
     "output_type": "execute_result"
    }
   ],
   "source": [
    "registers, program"
   ]
  },
  {
   "cell_type": "code",
   "execution_count": 8,
   "id": "8467ca9b",
   "metadata": {},
   "outputs": [
    {
     "data": {
      "text/plain": [
       "'5,1,3,4,3,7,2,1,7'"
      ]
     },
     "execution_count": 8,
     "metadata": {},
     "output_type": "execute_result"
    }
   ],
   "source": [
    "def execute(program, registers):\n",
    "    pointer = 0\n",
    "    outputs = []\n",
    "    while len(program) > pointer:\n",
    "        opcode = program[pointer]\n",
    "        operand = program[pointer + 1]\n",
    "        pointer, out = opcode_map[opcode](operand, registers, pointer)\n",
    "        outputs.extend(out)\n",
    "    return outputs\n",
    "\n",
    "registers = {\n",
    "    'A': 0,\n",
    "    'B': 0,\n",
    "    'C': 0,\n",
    "}\n",
    "\n",
    "reg, prog = txt.split('\\n\\n')\n",
    "for r, line in zip(['A', 'B', 'C'], reg.splitlines()):\n",
    "    registers[r] = int(line[11:])\n",
    "program = [int(x) for x in prog[8:].split(',')]\n",
    "\n",
    "outputs = execute(program, registers)\n",
    "','.join(str(x) for x in outputs)\n",
    "\n"
   ]
  },
  {
   "cell_type": "code",
   "execution_count": 9,
   "id": "896f77b4",
   "metadata": {},
   "outputs": [
    {
     "data": {
      "text/plain": [
       "[5, 1, 3, 4, 3, 7, 2, 1, 7]"
      ]
     },
     "execution_count": 9,
     "metadata": {},
     "output_type": "execute_result"
    }
   ],
   "source": [
    "outputs"
   ]
  },
  {
   "cell_type": "code",
   "execution_count": null,
   "id": "a45a51ec",
   "metadata": {},
   "outputs": [],
   "source": []
  },
  {
   "cell_type": "markdown",
   "id": "984acafe",
   "metadata": {},
   "source": [
    "# Part 2"
   ]
  },
  {
   "cell_type": "code",
   "execution_count": 10,
   "id": "d6d7e2f5",
   "metadata": {},
   "outputs": [],
   "source": [
    "txt = \"\"\"\n",
    "Register A: 117440\n",
    "Register B: 0\n",
    "Register C: 0\n",
    "\n",
    "Program: 0,3,5,4,3,0\n",
    "\"\"\".strip()"
   ]
  },
  {
   "cell_type": "code",
   "execution_count": 11,
   "id": "a0465b69",
   "metadata": {},
   "outputs": [],
   "source": [
    "with open('input.txt', 'r') as f:\n",
    "    txt = f.read().strip()"
   ]
  },
  {
   "cell_type": "code",
   "execution_count": 12,
   "id": "3851a8b6",
   "metadata": {},
   "outputs": [],
   "source": [
    "reg, prog = txt.split('\\n\\n')\n",
    "program = [int(x) for x in prog[8:].split(',')]\n"
   ]
  },
  {
   "cell_type": "code",
   "execution_count": 13,
   "id": "51109f54",
   "metadata": {},
   "outputs": [
    {
     "name": "stdout",
     "output_type": "stream",
     "text": [
      "{0: {0}, 1: {6}}\n",
      "{0: {0}, 1: {6}, 2: {49, 53}}\n",
      "{0: {0}, 1: {6}, 2: {49, 53}, 3: {393, 425, 397, 430, 429}}\n",
      "{0: {0}, 1: {6}, 2: {49, 53}, 3: {393, 425, 397, 430, 429}, 4: {3401, 3145, 3177, 3433, 3407, 3151, 3442}}\n",
      "{0: {0}, 1: {6}, 2: {49, 53}, 3: {393, 425, 397, 430, 429}, 4: {3401, 3145, 3177, 3433, 3407, 3151, 3442}, 5: {25213, 25165, 25166, 27213, 27214, 25422, 27470, 27261}}\n",
      "{0: {0}, 1: {6}, 2: {49, 53}, 3: {393, 425, 397, 430, 429}, 4: {3401, 3145, 3177, 3433, 3407, 3151, 3442}, 5: {25213, 25165, 25166, 27213, 27214, 25422, 27470, 27261}, 6: {218093, 201709}}\n",
      "{0: {0}, 1: {6}, 2: {49, 53}, 3: {393, 425, 397, 430, 429}, 4: {3401, 3145, 3177, 3433, 3407, 3151, 3442}, 5: {25213, 25165, 25166, 27213, 27214, 25422, 27470, 27261}, 6: {218093, 201709}, 7: {1744744, 1613678, 1613672, 1744750}}\n",
      "{0: {0}, 1: {6}, 2: {49, 53}, 3: {393, 425, 397, 430, 429}, 4: {3401, 3145, 3177, 3433, 3407, 3151, 3442}, 5: {25213, 25165, 25166, 27213, 27214, 25422, 27470, 27261}, 6: {218093, 201709}, 7: {1744744, 1613678, 1613672, 1744750}, 8: {12909424, 13958000}}\n",
      "{0: {0}, 1: {6}, 2: {49, 53}, 3: {393, 425, 397, 430, 429}, 4: {3401, 3145, 3177, 3433, 3407, 3151, 3442}, 5: {25213, 25165, 25166, 27213, 27214, 25422, 27470, 27261}, 6: {218093, 201709}, 7: {1744744, 1613678, 1613672, 1744750}, 8: {12909424, 13958000}, 9: {103275394, 111664002, 111664004, 103275396, 103275397, 111664005}}\n",
      "{0: {0}, 1: {6}, 2: {49, 53}, 3: {393, 425, 397, 430, 429}, 4: {3401, 3145, 3177, 3433, 3407, 3151, 3442}, 5: {25213, 25165, 25166, 27213, 27214, 25422, 27470, 27261}, 6: {218093, 201709}, 7: {1744744, 1613678, 1613672, 1744750}, 8: {12909424, 13958000}, 9: {103275394, 111664002, 111664004, 103275396, 103275397, 111664005}, 10: {826203174, 893312038, 826203178, 893312042, 826203182, 893312046}}\n",
      "{0: {0}, 1: {6}, 2: {49, 53}, 3: {393, 425, 397, 430, 429}, 4: {3401, 3145, 3177, 3433, 3407, 3151, 3442}, 5: {25213, 25165, 25166, 27213, 27214, 25422, 27470, 27261}, 6: {218093, 201709}, 7: {1744744, 1613678, 1613672, 1744750}, 8: {12909424, 13958000}, 9: {103275394, 111664002, 111664004, 103275396, 103275397, 111664005}, 10: {826203174, 893312038, 826203178, 893312042, 826203182, 893312046}, 11: {7146496338, 6609625394, 7146496306, 6609625426, 6609625458, 7146496370}}\n",
      "{0: {0}, 1: {6}, 2: {49, 53}, 3: {393, 425, 397, 430, 429}, 4: {3401, 3145, 3177, 3433, 3407, 3151, 3442}, 5: {25213, 25165, 25166, 27213, 27214, 25422, 27470, 27261}, 6: {218093, 201709}, 7: {1744744, 1613678, 1613672, 1744750}, 8: {12909424, 13958000}, 9: {103275394, 111664002, 111664004, 103275396, 103275397, 111664005}, 10: {826203174, 893312038, 826203178, 893312042, 826203182, 893312046}, 11: {7146496338, 6609625394, 7146496306, 6609625426, 6609625458, 7146496370}, 12: {52877003412, 57171970708}}\n",
      "{0: {0}, 1: {6}, 2: {49, 53}, 3: {393, 425, 397, 430, 429}, 4: {3401, 3145, 3177, 3433, 3407, 3151, 3442}, 5: {25213, 25165, 25166, 27213, 27214, 25422, 27470, 27261}, 6: {218093, 201709}, 7: {1744744, 1613678, 1613672, 1744750}, 8: {12909424, 13958000}, 9: {103275394, 111664002, 111664004, 103275396, 103275397, 111664005}, 10: {826203174, 893312038, 826203178, 893312042, 826203182, 893312046}, 11: {7146496338, 6609625394, 7146496306, 6609625426, 6609625458, 7146496370}, 12: {52877003412, 57171970708}, 13: {457375765671, 457375765668, 423016027300, 423016027303}}\n",
      "{0: {0}, 1: {6}, 2: {49, 53}, 3: {393, 425, 397, 430, 429}, 4: {3401, 3145, 3177, 3433, 3407, 3151, 3442}, 5: {25213, 25165, 25166, 27213, 27214, 25422, 27470, 27261}, 6: {218093, 201709}, 7: {1744744, 1613678, 1613672, 1744750}, 8: {12909424, 13958000}, 9: {103275394, 111664002, 111664004, 103275396, 103275397, 111664005}, 10: {826203174, 893312038, 826203178, 893312042, 826203182, 893312046}, 11: {7146496338, 6609625394, 7146496306, 6609625426, 6609625458, 7146496370}, 12: {52877003412, 57171970708}, 13: {457375765671, 457375765668, 423016027300, 423016027303}, 14: {3384128218430, 3384128218424, 3659006125350, 3384128218406, 3384128218425, 3384128218426, 3659006125368, 3659006125369, 3659006125370, 3659006125374}}\n",
      "{0: {0}, 1: {6}, 2: {49, 53}, 3: {393, 425, 397, 430, 429}, 4: {3401, 3145, 3177, 3433, 3407, 3151, 3442}, 5: {25213, 25165, 25166, 27213, 27214, 25422, 27470, 27261}, 6: {218093, 201709}, 7: {1744744, 1613678, 1613672, 1744750}, 8: {12909424, 13958000}, 9: {103275394, 111664002, 111664004, 103275396, 103275397, 111664005}, 10: {826203174, 893312038, 826203178, 893312042, 826203182, 893312046}, 11: {7146496338, 6609625394, 7146496306, 6609625426, 6609625458, 7146496370}, 12: {52877003412, 57171970708}, 13: {457375765671, 457375765668, 423016027300, 423016027303}, 14: {3384128218430, 3384128218424, 3659006125350, 3384128218406, 3384128218425, 3384128218426, 3659006125368, 3659006125369, 3659006125370, 3659006125374}, 15: {29272049002967, 27073025747397, 29272049002949, 27073025747405, 29272049002957, 27073025747408, 29272049002960, 27073025747413, 27073025747445, 27073025747415, 29272049002965, 29272049002997}}\n",
      "{0: {0}, 1: {6}, 2: {49, 53}, 3: {393, 425, 397, 430, 429}, 4: {3401, 3145, 3177, 3433, 3407, 3151, 3442}, 5: {25213, 25165, 25166, 27213, 27214, 25422, 27470, 27261}, 6: {218093, 201709}, 7: {1744744, 1613678, 1613672, 1744750}, 8: {12909424, 13958000}, 9: {103275394, 111664002, 111664004, 103275396, 103275397, 111664005}, 10: {826203174, 893312038, 826203178, 893312042, 826203182, 893312046}, 11: {7146496338, 6609625394, 7146496306, 6609625426, 6609625458, 7146496370}, 12: {52877003412, 57171970708}, 13: {457375765671, 457375765668, 423016027300, 423016027303}, 14: {3384128218430, 3384128218424, 3659006125350, 3384128218406, 3384128218425, 3384128218426, 3659006125368, 3659006125369, 3659006125370, 3659006125374}, 15: {29272049002967, 27073025747397, 29272049002949, 27073025747405, 29272049002957, 27073025747408, 29272049002960, 27073025747413, 27073025747445, 27073025747415, 29272049002965, 29272049002997}, 16: {216584205979327, 234176392023661, 216584205979245, 234176392023743}}\n"
     ]
    }
   ],
   "source": [
    "def execute_step(a):\n",
    "    b = (a & 7) ^ 3\n",
    "    c = a >> b\n",
    "    b = (b ^ 5) ^ c\n",
    "    return b & 7\n",
    "\n",
    "\n",
    "good = {0: {0}}\n",
    "for level in range(16):\n",
    "    target = program[-level-1]\n",
    "    good[level+1] = set()\n",
    "    for candidate in good[level]:\n",
    "\n",
    "        a_start = candidate << 3\n",
    "        a_stop = a_start + 8\n",
    "        for a in range(a_start, a_stop):\n",
    "            out = execute_step(a)\n",
    "            if out == target:\n",
    "                good[level+1].add(a)\n",
    "    print(good)\n",
    "\n"
   ]
  },
  {
   "cell_type": "code",
   "execution_count": 14,
   "id": "4e5ff0e1",
   "metadata": {},
   "outputs": [
    {
     "data": {
      "text/plain": [
       "216584205979245"
      ]
     },
     "execution_count": 14,
     "metadata": {},
     "output_type": "execute_result"
    }
   ],
   "source": [
    "min(good[16])"
   ]
  },
  {
   "cell_type": "code",
   "execution_count": null,
   "id": "a7fe8462",
   "metadata": {},
   "outputs": [],
   "source": []
  },
  {
   "cell_type": "code",
   "execution_count": null,
   "id": "37edfea7",
   "metadata": {},
   "outputs": [],
   "source": []
  }
 ],
 "metadata": {
  "hide_input": false,
  "kernelspec": {
   "display_name": "Python 3 (ipykernel)",
   "language": "python",
   "name": "python3"
  },
  "language_info": {
   "codemirror_mode": {
    "name": "ipython",
    "version": 3
   },
   "file_extension": ".py",
   "mimetype": "text/x-python",
   "name": "python",
   "nbconvert_exporter": "python",
   "pygments_lexer": "ipython3",
   "version": "3.11.3"
  },
  "toc": {
   "nav_menu": {
    "height": "12px",
    "width": "252px"
   },
   "navigate_menu": true,
   "number_sections": true,
   "sideBar": true,
   "threshold": 4,
   "toc_cell": false,
   "toc_section_display": "block",
   "toc_window_display": false
  }
 },
 "nbformat": 4,
 "nbformat_minor": 5
}
